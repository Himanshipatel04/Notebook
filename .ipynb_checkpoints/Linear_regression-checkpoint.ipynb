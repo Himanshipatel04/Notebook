{
 "cells": [
  {
   "cell_type": "markdown",
   "id": "10b79e93-94a2-4260-ab00-6ffb8d53c486",
   "metadata": {},
   "source": [
    "# Linear regression"
   ]
  },
  {
   "cell_type": "raw",
   "id": "41c5d206-ae75-4419-b903-9205ac259fcf",
   "metadata": {},
   "source": [
    "## Gradient Descent\n",
    "Gradient Descent is an optimization algo used for minimizing the loss function in various ml algos.\n",
    "It is used for updating the parameters of learning model.\n",
    "w=w-a*dw\n",
    "b=b-a*db"
   ]
  },
  {
   "cell_type": "markdown",
   "id": "31fe2c83-511e-4ad6-8ca7-41e334ec9b81",
   "metadata": {},
   "source": [
    "## learning rate:\n",
    "it is a tuning parameter in an optim algo that determines the step size at each iteration while moving toward a minimum of a loss function."
   ]
  },
  {
   "cell_type": "code",
   "execution_count": 50,
   "id": "6e56caad-7caa-4048-8761-c7b8d7ce4300",
   "metadata": {},
   "outputs": [],
   "source": [
    "import numpy as np\n",
    "import pandas as pd"
   ]
  },
  {
   "cell_type": "code",
   "execution_count": 51,
   "id": "9272c2fa-27be-4c70-a4e3-0231e9e8e449",
   "metadata": {},
   "outputs": [],
   "source": [
    "#linear regression model"
   ]
  },
  {
   "cell_type": "code",
   "execution_count": 52,
   "id": "4d671cec-a549-42c9-859b-d8d47d912cd4",
   "metadata": {},
   "outputs": [],
   "source": [
    "class linear_regression:\n",
    "    def __init__(self,learning_rate,no_of_iteration):\n",
    "        \n",
    "        self.learning_rate = learning_rate\n",
    "        self.no_of_iteration = no_of_iteration \n",
    "\n",
    "    def fit(self,x,y):\n",
    "        #no of training examples\n",
    "        #m=no of rows and n=no of col\n",
    "        self.m,self.n =  x.shape\n",
    "        #initiating the weight and bias\n",
    "        self.w = np.zeros(self.n)\n",
    "        self.b = 0\n",
    "        self.x = x\n",
    "        self.y = y\n",
    "\n",
    "        for i in range(self.no_of_iteration): \n",
    "            self.update_weights()\n",
    "        \n",
    "    def update_weights(self):\n",
    "        y_pred = self.predict(self.x)\n",
    "        #calculate gradient\n",
    "        dw = -(2*(self.x.T).dot(self.y - y_pred))/self.m\n",
    "        db = - 2 * np.sum(self.y - y_pred)/self.m\n",
    "\n",
    "    #updating weights\n",
    "        self.w=self.w - self.learning_rate*dw\n",
    "        self.b=self.b - self.learning_rate*db\n",
    "\n",
    "    def predict(self,x):\n",
    "        return x.dot(self.w)+self.b        \n",
    "    "
   ]
  },
  {
   "cell_type": "markdown",
   "id": "4c5ec72a-046d-4a53-b65c-317b05c48d98",
   "metadata": {},
   "source": [
    "# implementation"
   ]
  },
  {
   "cell_type": "code",
   "execution_count": 53,
   "id": "2aa113e7-fdd3-468c-ad95-9071025e4370",
   "metadata": {},
   "outputs": [],
   "source": [
    "from sklearn.model_selection import train_test_split"
   ]
  },
  {
   "cell_type": "code",
   "execution_count": 54,
   "id": "a3e43bec-4d4d-4d7f-ad43-e736f6f4bcd6",
   "metadata": {},
   "outputs": [],
   "source": [
    "import matplotlib.pyplot as plt"
   ]
  },
  {
   "cell_type": "code",
   "execution_count": 55,
   "id": "17053d0e-231a-46c8-b6cc-ac1aa3d0dc05",
   "metadata": {},
   "outputs": [],
   "source": [
    "#data preprocessing"
   ]
  },
  {
   "cell_type": "code",
   "execution_count": 56,
   "id": "dd057ffd-4fca-4d89-9a5b-a28dedfd5ce6",
   "metadata": {},
   "outputs": [],
   "source": [
    "df=pd.read_csv(r\"C:\\Users\\himan\\Downloads\\Desktop\\salary_data.csv\")"
   ]
  },
  {
   "cell_type": "code",
   "execution_count": 57,
   "id": "191c6bc0-f30f-44cf-b4f9-4b0873fb043f",
   "metadata": {},
   "outputs": [
    {
     "data": {
      "text/html": [
       "<div>\n",
       "<style scoped>\n",
       "    .dataframe tbody tr th:only-of-type {\n",
       "        vertical-align: middle;\n",
       "    }\n",
       "\n",
       "    .dataframe tbody tr th {\n",
       "        vertical-align: top;\n",
       "    }\n",
       "\n",
       "    .dataframe thead th {\n",
       "        text-align: right;\n",
       "    }\n",
       "</style>\n",
       "<table border=\"1\" class=\"dataframe\">\n",
       "  <thead>\n",
       "    <tr style=\"text-align: right;\">\n",
       "      <th></th>\n",
       "      <th>YearsExperience</th>\n",
       "      <th>Salary</th>\n",
       "    </tr>\n",
       "  </thead>\n",
       "  <tbody>\n",
       "    <tr>\n",
       "      <th>0</th>\n",
       "      <td>1.1</td>\n",
       "      <td>39343</td>\n",
       "    </tr>\n",
       "    <tr>\n",
       "      <th>1</th>\n",
       "      <td>1.3</td>\n",
       "      <td>46205</td>\n",
       "    </tr>\n",
       "    <tr>\n",
       "      <th>2</th>\n",
       "      <td>1.5</td>\n",
       "      <td>37731</td>\n",
       "    </tr>\n",
       "    <tr>\n",
       "      <th>3</th>\n",
       "      <td>2.0</td>\n",
       "      <td>43525</td>\n",
       "    </tr>\n",
       "    <tr>\n",
       "      <th>4</th>\n",
       "      <td>2.2</td>\n",
       "      <td>39891</td>\n",
       "    </tr>\n",
       "  </tbody>\n",
       "</table>\n",
       "</div>"
      ],
      "text/plain": [
       "   YearsExperience  Salary\n",
       "0              1.1   39343\n",
       "1              1.3   46205\n",
       "2              1.5   37731\n",
       "3              2.0   43525\n",
       "4              2.2   39891"
      ]
     },
     "execution_count": 57,
     "metadata": {},
     "output_type": "execute_result"
    }
   ],
   "source": [
    "df.head()"
   ]
  },
  {
   "cell_type": "code",
   "execution_count": 58,
   "id": "41b64520-ed60-40e7-94be-3ae2ecac3352",
   "metadata": {},
   "outputs": [
    {
     "data": {
      "text/plain": [
       "YearsExperience    0\n",
       "Salary             0\n",
       "dtype: int64"
      ]
     },
     "execution_count": 58,
     "metadata": {},
     "output_type": "execute_result"
    }
   ],
   "source": [
    "df.isnull().sum()"
   ]
  },
  {
   "cell_type": "code",
   "execution_count": 59,
   "id": "482459d5-74a9-4669-8884-869a9f5402b3",
   "metadata": {},
   "outputs": [
    {
     "data": {
      "text/html": [
       "<div>\n",
       "<style scoped>\n",
       "    .dataframe tbody tr th:only-of-type {\n",
       "        vertical-align: middle;\n",
       "    }\n",
       "\n",
       "    .dataframe tbody tr th {\n",
       "        vertical-align: top;\n",
       "    }\n",
       "\n",
       "    .dataframe thead th {\n",
       "        text-align: right;\n",
       "    }\n",
       "</style>\n",
       "<table border=\"1\" class=\"dataframe\">\n",
       "  <thead>\n",
       "    <tr style=\"text-align: right;\">\n",
       "      <th></th>\n",
       "      <th>YearsExperience</th>\n",
       "      <th>Salary</th>\n",
       "    </tr>\n",
       "  </thead>\n",
       "  <tbody>\n",
       "    <tr>\n",
       "      <th>count</th>\n",
       "      <td>30.000000</td>\n",
       "      <td>30.000000</td>\n",
       "    </tr>\n",
       "    <tr>\n",
       "      <th>mean</th>\n",
       "      <td>5.313333</td>\n",
       "      <td>76003.000000</td>\n",
       "    </tr>\n",
       "    <tr>\n",
       "      <th>std</th>\n",
       "      <td>2.837888</td>\n",
       "      <td>27414.429785</td>\n",
       "    </tr>\n",
       "    <tr>\n",
       "      <th>min</th>\n",
       "      <td>1.100000</td>\n",
       "      <td>37731.000000</td>\n",
       "    </tr>\n",
       "    <tr>\n",
       "      <th>25%</th>\n",
       "      <td>3.200000</td>\n",
       "      <td>56720.750000</td>\n",
       "    </tr>\n",
       "    <tr>\n",
       "      <th>50%</th>\n",
       "      <td>4.700000</td>\n",
       "      <td>65237.000000</td>\n",
       "    </tr>\n",
       "    <tr>\n",
       "      <th>75%</th>\n",
       "      <td>7.700000</td>\n",
       "      <td>100544.750000</td>\n",
       "    </tr>\n",
       "    <tr>\n",
       "      <th>max</th>\n",
       "      <td>10.500000</td>\n",
       "      <td>122391.000000</td>\n",
       "    </tr>\n",
       "  </tbody>\n",
       "</table>\n",
       "</div>"
      ],
      "text/plain": [
       "       YearsExperience         Salary\n",
       "count        30.000000      30.000000\n",
       "mean          5.313333   76003.000000\n",
       "std           2.837888   27414.429785\n",
       "min           1.100000   37731.000000\n",
       "25%           3.200000   56720.750000\n",
       "50%           4.700000   65237.000000\n",
       "75%           7.700000  100544.750000\n",
       "max          10.500000  122391.000000"
      ]
     },
     "execution_count": 59,
     "metadata": {},
     "output_type": "execute_result"
    }
   ],
   "source": [
    "df.describe()"
   ]
  },
  {
   "cell_type": "code",
   "execution_count": null,
   "id": "53af9503-8657-4571-8238-5ff4bbab6093",
   "metadata": {},
   "outputs": [],
   "source": []
  },
  {
   "cell_type": "code",
   "execution_count": 60,
   "id": "6668d6e8-5ebc-4810-8cce-2af9f33cb4a8",
   "metadata": {},
   "outputs": [
    {
     "name": "stdout",
     "output_type": "stream",
     "text": [
      "<class 'pandas.core.frame.DataFrame'>\n",
      "RangeIndex: 30 entries, 0 to 29\n",
      "Data columns (total 2 columns):\n",
      " #   Column           Non-Null Count  Dtype  \n",
      "---  ------           --------------  -----  \n",
      " 0   YearsExperience  30 non-null     float64\n",
      " 1   Salary           30 non-null     int64  \n",
      "dtypes: float64(1), int64(1)\n",
      "memory usage: 612.0 bytes\n"
     ]
    }
   ],
   "source": [
    "df.info()"
   ]
  },
  {
   "cell_type": "code",
   "execution_count": 61,
   "id": "57f7461e-a57a-4eb0-a8a9-facde846a862",
   "metadata": {},
   "outputs": [
    {
     "data": {
      "text/plain": [
       "(30, 2)"
      ]
     },
     "execution_count": 61,
     "metadata": {},
     "output_type": "execute_result"
    }
   ],
   "source": [
    "df.shape"
   ]
  },
  {
   "cell_type": "code",
   "execution_count": 62,
   "id": "b99f68c9-9085-41be-bd3a-d14b61d8c1a9",
   "metadata": {},
   "outputs": [],
   "source": [
    "x=df.iloc[:,:-1].values\n",
    "y=df.iloc[:,1].values"
   ]
  },
  {
   "cell_type": "code",
   "execution_count": 63,
   "id": "d61500ca-9c3d-414b-9aec-b83861026c93",
   "metadata": {},
   "outputs": [],
   "source": [
    "x_train,x_test,y_train,y_test=train_test_split(x,y,test_size=0.33,random_state=2)"
   ]
  },
  {
   "cell_type": "code",
   "execution_count": 64,
   "id": "9230f13a-8f0c-4202-86f8-1fefdd7aa675",
   "metadata": {},
   "outputs": [],
   "source": [
    "lr=linear_regression(0.02,10000)"
   ]
  },
  {
   "cell_type": "code",
   "execution_count": 65,
   "id": "7f18aef4-9878-4773-b766-a10d45e70798",
   "metadata": {},
   "outputs": [],
   "source": [
    "lr.fit(x_train,y_train)"
   ]
  },
  {
   "cell_type": "code",
   "execution_count": 66,
   "id": "99e10af3-cbc6-428c-bc91-07bd09a316ec",
   "metadata": {},
   "outputs": [
    {
     "name": "stdout",
     "output_type": "stream",
     "text": [
      "9512.944987627436 23707.81324657524\n"
     ]
    }
   ],
   "source": [
    "print(lr.w[0],lr.b)"
   ]
  },
  {
   "cell_type": "markdown",
   "id": "f43a66c0-5458-434a-b7e3-92d8e0786b8b",
   "metadata": {},
   "source": [
    "### y=x*9514 + 23697"
   ]
  },
  {
   "cell_type": "code",
   "execution_count": 67,
   "id": "91078e01-4299-450e-a576-9a073be71c09",
   "metadata": {},
   "outputs": [],
   "source": [
    "pr=lr.predict(x_test)"
   ]
  },
  {
   "cell_type": "code",
   "execution_count": 68,
   "id": "577702ef-9fda-4993-a1a8-b66b34d94504",
   "metadata": {},
   "outputs": [
    {
     "name": "stdout",
     "output_type": "stream",
     "text": [
      "[ 36074.64173049  34172.05273297  66516.0656909   58905.7097008\n",
      "  91249.72265873  80785.48317234 101713.96214512  52246.64820946\n",
      "  42733.70322183  88395.83916244]\n"
     ]
    }
   ],
   "source": [
    "print(pr)"
   ]
  },
  {
   "cell_type": "code",
   "execution_count": 69,
   "id": "f18d5c10-ede5-462e-b588-bd9ee26428e0",
   "metadata": {},
   "outputs": [],
   "source": [
    "#visualization"
   ]
  },
  {
   "cell_type": "code",
   "execution_count": 70,
   "id": "43a13fbc-d8c1-406a-8177-12e6a713f6f6",
   "metadata": {},
   "outputs": [
    {
     "data": {
      "image/png": "[encoded data removed]",
      "text/plain": [
       "<Figure size 640x480 with 1 Axes>"
      ]
     },
     "metadata": {},
     "output_type": "display_data"
    }
   ],
   "source": [
    "plt.scatter(x_test,y_test, color =\"red\")\n",
    "plt.plot(x_test,pr,color=\"blue\")\n",
    "plt.xlabel(\"experience\")\n",
    "plt.ylabel(\"salary\")\n",
    "plt.title(\"linear model prediction\")\n",
    "plt.show()"
   ]
  },
  {
   "cell_type": "code",
   "execution_count": null,
   "id": "ad14eddb-c5a6-4776-a2bb-7a7fbd51ca28",
   "metadata": {},
   "outputs": [],
   "source": []
  }
 ],
 "metadata": {
  "kernelspec": {
   "display_name": "Python 3 (ipykernel)",
   "language": "python",
   "name": "python3"
  },
  "language_info": {
   "codemirror_mode": {
    "name": "ipython",
    "version": 3
   },
   "file_extension": ".py",
   "mimetype": "text/x-python",
   "name": "python",
   "nbconvert_exporter": "python",
   "pygments_lexer": "ipython3",
   "version": "3.12.2"
  }
 },
 "nbformat": 4,
 "nbformat_minor": 5
}
